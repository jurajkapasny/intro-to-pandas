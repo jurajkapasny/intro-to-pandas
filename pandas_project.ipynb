{
 "cells": [
  {
   "cell_type": "markdown",
   "id": "81aee66d-c851-4bfb-abd4-29a5e5aaf62d",
   "metadata": {},
   "source": [
    "# Project: Exploratory Data Analysis of Sales Data\n",
    "\n",
    "### Dataset Description:\n",
    "\n",
    "You are given a dataset containing sales information for a fictional online store. The dataset is in a CSV format and includes columns such as OrderID, Product, Quantity, Price, Customer, Date, etc. The data represents sales transactions over a certain period.\n"
   ]
  },
  {
   "cell_type": "code",
   "execution_count": null,
   "id": "c7118c7c-ec40-4dc4-9c60-629ecd63e7cd",
   "metadata": {},
   "outputs": [],
   "source": [
    "import pandas as pd"
   ]
  },
  {
   "cell_type": "code",
   "execution_count": null,
   "id": "90d84422-83dd-4429-a400-c663590b20fe",
   "metadata": {},
   "outputs": [],
   "source": [
    "data = pd.read_csv(\"./data/sales_data_sample.csv\", sep=\",\", encoding = 'latin')"
   ]
  },
  {
   "cell_type": "code",
   "execution_count": null,
   "id": "49bd5099-510b-4564-ae0c-974035ff4b9e",
   "metadata": {},
   "outputs": [],
   "source": [
    "data.head()"
   ]
  },
  {
   "cell_type": "code",
   "execution_count": null,
   "id": "924e04cc-4dd6-4ed5-a7cc-fd316c912c66",
   "metadata": {},
   "outputs": [],
   "source": []
  },
  {
   "cell_type": "markdown",
   "id": "385dd915-76a7-422c-8da0-001b9d97941c",
   "metadata": {},
   "source": [
    "### Project Tasks:\n",
    "\n",
    "1. Data Loading: Begin by loading the dataset into a pandas DataFrame.\n",
    "\n",
    "2. Data Exploration: Conduct basic exploratory data analysis (EDA) to gain insights into the dataset. Some questions to consider:\n",
    "\n",
    "    - What are the top-selling products?\n",
    "    - What is the total revenue for the given period?\n",
    "    - How does the sales volume vary across different dates?\n",
    "    - Are there any seasonal patterns in the sales data?\n",
    "    - Who are the top customers in terms of spending?\n",
    "3. Data Manipulation: Utilize pandas functionalities to perform the following tasks:\n",
    "\n",
    "    - Calculate the total sales for each product and create a new DataFrame with this information.\n",
    "    - Group the data by month and year, and calculate the total revenue for each period.\n",
    "    - Create a new column that calculates the total price for each order (Quantity * Price).\n",
    "    - Identify and remove any outliers in the data.\n",
    "\n",
    "\n",
    "4. Further Analysis:\n",
    "\n",
    "    - Finding the month with the highest sales and the corresponding revenue.\n",
    "    - Creating a dictionary that maps each customer to the total amount they spent.\n",
    "5. Conclusion: Summarize your findings from the data analysis and share any insights or patterns discovered during the exploration."
   ]
  },
  {
   "cell_type": "code",
   "execution_count": null,
   "id": "6d7384f7-1c72-4717-abc5-b3c95aa78233",
   "metadata": {},
   "outputs": [],
   "source": []
  }
 ],
 "metadata": {
  "kernelspec": {
   "display_name": "Python 3 (ipykernel)",
   "language": "python",
   "name": "python3"
  },
  "language_info": {
   "codemirror_mode": {
    "name": "ipython",
    "version": 3
   },
   "file_extension": ".py",
   "mimetype": "text/x-python",
   "name": "python",
   "nbconvert_exporter": "python",
   "pygments_lexer": "ipython3",
   "version": "3.9.7"
  }
 },
 "nbformat": 4,
 "nbformat_minor": 5
}
